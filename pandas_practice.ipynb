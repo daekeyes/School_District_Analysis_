# list of high schools
high_schools = ["Hernandez High School", "Figueroa High School", "Wilson High School", "Wright High School"]
for school in high_schools:
  print(school)
# A dictionary of high schools and the type of school.
